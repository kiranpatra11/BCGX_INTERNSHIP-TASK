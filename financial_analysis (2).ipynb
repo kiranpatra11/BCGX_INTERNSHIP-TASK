{
 "cells": [
  {
   "cell_type": "markdown",
   "id": "0264ec5f",
   "metadata": {},
   "source": [
    "# Financial Data Analysis for AI Chatbot Development\n",
    "\n",
    "Your task is to manually extract key financial data for the last three fiscal years from the 10-K filings of Microsoft, Tesla, and Apple. Following the data collection, you will use Python to analyze this data, focusing on trends and insights that could inform the development of an AI-powered financial chatbot."
   ]
  },
  {
   "cell_type": "markdown",
   "id": "82fd68f3",
   "metadata": {},
   "source": [
    "## Step 1: Data Extraction\n",
    "\n",
    "Navigate to the SEC's EDGAR database:\n",
    "\n",
    "*   [Microsoft](https://www.sec.gov/edgar/browse/?CIK=0000789019)\n",
    "*   [Tesla](https://www.sec.gov/edgar/browse/?CIK=0001318605)\n",
    "*   [Apple](https://www.sec.gov/edgar/browse/?CIK=0000320193)\n",
    "\n",
    "### Manual Extraction:\n",
    "\n",
    "For each company, find the 10-K filings for the last three fiscal years.\n",
    "Extract the following financial figures: Total Revenue, Net Income, Total Assets, Total Liabilities, and Cash Flow from Operating Activities.\n",
    "\n",
    "### Organize Your Data:\n",
    "\n",
    "Compile the extracted data into an Excel spreadsheet for easy reference during your Python analysis."
   ]
  },
  {
   "cell_type": "markdown",
   "id": "87d7e064",
   "metadata": {},
   "source": [
    "## Step 2: Preparing your Jupyter Notebook environment\n",
    "\n",
    "### Install Jupyter (if not already installed):\n",
    "\n",
    "Install Jupyter using pip if you haven't already:\n",
    "```bash\n",
    "pip install notebook\n",
    "```\n",
    "\n",
    "### Launch Jupyter Notebook:\n",
    "\n",
    "```bash\n",
    "jupyter notebook\n",
    "```\n",
    "This command should open Jupyter in your web browser.\n",
    "\n",
    "### Create a new notebook:\n",
    "\n",
    "In the Jupyter interface, create a new notebook for your analysis."
   ]
  },
  {
   "cell_type": "markdown",
   "id": "74ce2eab",
   "metadata": {},
   "source": [
    "## Step 3: Python analysis in Jupyter\n",
    "\n",
    "### Import pandas:\n",
    "\n",
    "At the beginning of your notebook, import the pandas library to work with your data.\n"
   ]
  },
  {
   "cell_type": "code",
   "execution_count": null,
   "id": "154247ba",
   "metadata": {},
   "outputs": [],
   "source": [
    "import pandas as pd"
   ]
  },
  {
   "cell_type": "markdown",
   "id": "139eb2d8",
   "metadata": {},
   "source": [
    "\n",
    "### Load your data:\n",
    "\n",
    "Convert your Excel file to a CSV file for easier handling, then load it into a DataFrame.\n"
   ]
  },
  {
   "cell_type": "code",
   "execution_count": null,
   "id": "3dbdcd57",
   "metadata": {},
   "outputs": [],
   "source": [
    "df = pd.read_csv('path_to_your_csv_file.csv')"
   ]
  },
  {
   "cell_type": "markdown",
   "id": "116561ec",
   "metadata": {},
   "source": [
    "\n",
    "### Analyzing trends with pandas:\n",
    "\n",
    "Use pandas to calculate year-over-year changes for each financial metric. You can do this by creating new columns in your DataFrame that represent the percentage change from one year to the next.\n"
   ]
  },
  {
   "cell_type": "code",
   "execution_count": null,
   "id": "0fb87b6b",
   "metadata": {},
   "outputs": [],
   "source": [
    "\n",
    "df['Revenue Growth (%)'] = df.groupby(['Company'])['Total Revenue'].pct_change() * 100\n",
    "df['Net Income Growth (%)'] = df.groupby(['Company'])['Net Income'].pct_change() * 100\n"
   ]
  },
  {
   "cell_type": "markdown",
   "id": "e23aa1bc",
   "metadata": {},
   "source": [
    "\n",
    "Explore other aggregate functions or groupings to analyze the data across different dimensions (by company, over years, etc.).\n",
    "\n",
    "### Summarizing findings:\n",
    "\n",
    "Conclude your analysis by summarizing your findings directly in the notebook. Use markdown cells to add narrative explanations of your analysis, discussing the trends and changes in financial metrics you've identified.\n"
   ]
  },
  {
   "cell_type": "markdown",
   "id": "4cd9274b",
   "metadata": {},
   "source": [
    "## Step 4: Documentation and submission\n",
    "\n",
    "### Document your analysis:\n",
    "\n",
    "Use the markdown feature in Jupyter Notebook to document your methodology, observations, and conclusions throughout the notebook.\n",
    "\n",
    "### Export your notebook:\n",
    "\n",
    "Once your analysis is complete, export your Jupyter Notebook as a PDF or HTML file for submission.\n",
    "You can do this from the \"File\" menu in Jupyter, selecting \"Download as\" and then choosing your preferred format.\n",
    "\n",
    "This approach allows you to focus on the core analytical aspects using pandas within a Jupyter Notebook, providing a clear, documented narrative of your financial analysis process. By the end of this task, you'll have a comprehensive understanding of how to analyze financial data programmatically, a valuable skill set for data-driven decision-making."
   ]
  }
 ],
 "metadata": {},
 "nbformat": 4,
 "nbformat_minor": 5
}
